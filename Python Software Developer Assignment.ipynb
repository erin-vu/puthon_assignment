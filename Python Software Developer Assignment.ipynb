{
 "cells": [
  {
   "cell_type": "code",
   "execution_count": 93,
   "metadata": {},
   "outputs": [
    {
     "data": {
      "application/javascript": [
       "IPython.notebook.set_autosave_interval(5000)"
      ]
     },
     "metadata": {},
     "output_type": "display_data"
    },
    {
     "name": "stdout",
     "output_type": "stream",
     "text": [
      "Autosaving every 5 seconds\n"
     ]
    }
   ],
   "source": [
    "%autosave 5"
   ]
  },
  {
   "cell_type": "markdown",
   "metadata": {},
   "source": [
    "### Q1"
   ]
  },
  {
   "cell_type": "markdown",
   "metadata": {},
   "source": [
    "#### Write a python function to take a string like \"aaaabbbcccdddefgaaa\" and count the number of repetitions of each character in it. The output will be a dictionary like \n",
    "{\"a\":7, \"b\":3, \"c\":3, \"d\":3, \"e\":1, \"f\":1, \"g\":1}\n"
   ]
  },
  {
   "cell_type": "code",
   "execution_count": 34,
   "metadata": {},
   "outputs": [],
   "source": [
    "def sort_string(string):\n",
    "    str_list=list(string)\n",
    "    d = {}\n",
    "    for i in str_list:\n",
    "        if i in d:\n",
    "            d[i]+=1\n",
    "        else:\n",
    "            d[i]=1\n",
    "    return d  "
   ]
  },
  {
   "cell_type": "code",
   "execution_count": 35,
   "metadata": {},
   "outputs": [
    {
     "data": {
      "text/plain": [
       "{'a': 7, 'b': 3, 'c': 3, 'd': 3, 'e': 1, 'f': 1, 'g': 1}"
      ]
     },
     "execution_count": 35,
     "metadata": {},
     "output_type": "execute_result"
    }
   ],
   "source": [
    "stringzz = \"aaaabbbcccdddefgaaa\"\n",
    "sort_string(stringzz)"
   ]
  },
  {
   "cell_type": "markdown",
   "metadata": {},
   "source": [
    "### Q2\n",
    "\n",
    "#### What is the difference between a list and a generator?\n",
    "\n",
    "The difference between a list and a generator is that lists keep the elements of the list in memory whereas the generator produces one element at a time, a generator object, and overwriting the previous expression."
   ]
  },
  {
   "cell_type": "markdown",
   "metadata": {},
   "source": [
    "### Q3\n",
    "\n",
    "#### What is the run-time complexity of the following function:"
   ]
  },
  {
   "cell_type": "raw",
   "metadata": {},
   "source": [
    "def test(1:list):\n",
    "    for I in L:\n",
    "        for j in range(0,100):\n",
    "            print(i*j)"
   ]
  },
  {
   "cell_type": "code",
   "execution_count": null,
   "metadata": {},
   "outputs": [],
   "source": [
    "O(n)"
   ]
  },
  {
   "cell_type": "markdown",
   "metadata": {},
   "source": [
    "### Q4\n",
    "\n",
    "#### Write a code to call this url every hour and store the returned rss file in a folder called news on the disk. https://www.yahoo.com/news/rss"
   ]
  },
  {
   "cell_type": "code",
   "execution_count": 61,
   "metadata": {},
   "outputs": [
    {
     "name": "stdout",
     "output_type": "stream",
     "text": [
      "Collecting scheduleNote: you may need to restart the kernel to use updated packages.\n",
      "  Downloading schedule-1.1.0-py2.py3-none-any.whl (10 kB)\n",
      "Installing collected packages: schedule\n",
      "Successfully installed schedule-1.1.0\n",
      "\n"
     ]
    }
   ],
   "source": [
    "#pip install schedule\n",
    "#pip install feedparser"
   ]
  },
  {
   "cell_type": "code",
   "execution_count": 90,
   "metadata": {},
   "outputs": [],
   "source": [
    "import schedule, time\n",
    "import feedparser\n",
    "import json\n",
    "\n",
    "url = 'https://www.yahoo.com/news/rss'\n",
    "\n",
    "def hourly_news(url):\n",
    "    feed = feedparser.parse(url)\n",
    "    return(feed)\n",
    "\n",
    "schedule = schedule.every().hour.do(hourly_news, url)\n",
    "\n",
    "def save_news_hourly(task):\n",
    "    with open('news.txt', 'w') as outfile:\n",
    "        json.dump(feed, outfile)\n",
    "        \n",
    "save_news_hourly(schedule)"
   ]
  }
 ],
 "metadata": {
  "kernelspec": {
   "display_name": "Python (learn-env)",
   "language": "python",
   "name": "learn-env"
  },
  "language_info": {
   "codemirror_mode": {
    "name": "ipython",
    "version": 3
   },
   "file_extension": ".py",
   "mimetype": "text/x-python",
   "name": "python",
   "nbconvert_exporter": "python",
   "pygments_lexer": "ipython3",
   "version": "3.8.5"
  }
 },
 "nbformat": 4,
 "nbformat_minor": 4
}
